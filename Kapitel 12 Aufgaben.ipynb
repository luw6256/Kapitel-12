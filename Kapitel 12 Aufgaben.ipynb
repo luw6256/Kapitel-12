{
 "cells": [
  {
   "metadata": {},
   "cell_type": "markdown",
   "source": "### Aufgabe 1 - Pre-Commit Hooks\n",
   "id": "d76b3dfc9b32298d"
  },
  {
   "metadata": {},
   "cell_type": "markdown",
   "source": [
    "1. Erstelle dir einen neuen branch. Den branch benennst du einfach mit deinem github namen. Gerne kannst du auch schon pushen um zu schauen ob es geklappt hat.\n",
    "    <br> - git branch \"name\"\n",
    "    <br> - git switch \"name\""
   ],
   "id": "3ed4ed586391c9ad"
  },
  {
   "metadata": {},
   "cell_type": "markdown",
   "source": [
    "2. Installiere pre-commit\n",
    "   - pip install pre-commit"
   ],
   "id": "4ac84b562ee338be"
  },
  {
   "metadata": {},
   "cell_type": "markdown",
   "source": "3. Erstelle dir eine File namens .pre-commit-config.yaml die die pre-commit hook black ausführt (Beispiel: pre-commit.yaml example)",
   "id": "a7dc15a569c9c2e0"
  },
  {
   "metadata": {},
   "cell_type": "markdown",
   "source": [
    "4. Entferne in \"unfassbargutepythonfile.py\" den Docstring um die 3 oberen Prints, so dass die prints ausgeführt werden könnten.\n",
    "<br> Führe die Datei aber nicht aus"
   ],
   "id": "6e5c413aa33c9363"
  },
  {
   "metadata": {},
   "cell_type": "markdown",
   "source": [
    "5. installiere die pre-commit hook vor deinem commit (pre-commit install) und versuche zu committen.\n",
    "<br> - git add <br> - pre-commit install <br> - git commit\n",
    "<br> Falls erfolgreich push deine files ins repository.\n",
    "<br> Falls es nicht klappt passe die python file an (tipp: eingerückte zeilen werden von black nicht angepasst)"
   ],
   "id": "b408471173509162"
  },
  {
   "metadata": {},
   "cell_type": "markdown",
   "source": "### Aufgabe 2 - GitHub Actions",
   "id": "6f1d564db4c469d1"
  },
  {
   "metadata": {},
   "cell_type": "markdown",
   "source": "1. Erstelle dir die eine Datei namens black.yml unter .github/workflows/ (du musst die Ordner auch neu erstellen)",
   "id": "baab0974984b02a3"
  },
  {
   "metadata": {},
   "cell_type": "markdown",
   "source": "2. Erstelle außerdem eine requirements.txt file die die benötigten Modul(e) beeinhaltet. Die benötigte Version steht in der Pythonfile",
   "id": "d7e63078dfdb1ee"
  },
  {
   "metadata": {},
   "cell_type": "markdown",
   "source": [
    "3. in dieser File wollen wir black automatisch in GitHub ausführen\n",
    "lassen. Du kannst gerne die beispiel konfiguration nehmen und anpassen. <br> (example_black.yml)\n",
    "\n"
   ],
   "id": "d574b8b08a936507"
  },
  {
   "metadata": {},
   "cell_type": "markdown",
   "source": "4. Push nun den gesamten .github Ordner ins Repository",
   "id": "ce550150ff9a3934"
  },
  {
   "metadata": {},
   "cell_type": "markdown",
   "source": "5. Entferne das \"Import Pandas\" aus der Pythonfile und pushe die Änderung",
   "id": "393dbb67e95e1f0e"
  },
  {
   "metadata": {},
   "cell_type": "markdown",
   "source": "6. Schau in Github unter Actions nach ob Fehler aufgetreten sind. <br> Beliebte Fehler sind falschgeschriebene Namen, falsche Syntax oder fehlende Leerzeichen",
   "id": "cece0bce795be158"
  },
  {
   "metadata": {},
   "cell_type": "markdown",
   "source": "### Aufgabe 3 - Docker",
   "id": "858e64cf40984d5d"
  },
  {
   "metadata": {},
   "cell_type": "markdown",
   "source": [
    "1. Stelle sicher das Docker funktioniert in dem du den command \"Docker run hello-world\" erfolgreich im Terminal ausführst.\n",
    "<br>(Falls der Fehler \"daemon not running\" auftritt, versuche daemon mit \"sudo dockerd\" zu starten)"
   ],
   "id": "bcbfb5bba2b133b4"
  },
  {
   "metadata": {},
   "cell_type": "markdown",
   "source": "2. Erstelle eine Dockerfile und passe Sie so an das die File \"unfassbargutepythonfile.py\" auf den Container kopiert und ausgeführt werden kann.<br> integriere zu dem die requirements.txt <br>(example_Dockerfile zeigt den Aufbau einer Dockerfile)",
   "id": "804e6ff0c7a6b372"
  },
  {
   "metadata": {},
   "cell_type": "markdown",
   "source": [
    "3. Erstelle das Image und starte den Container\n",
    "    - docker build -t image_name .       <br> (statt image_name gibst du an wie du dein Image bennnen willst - der Punkt sagt aus das die Dockerfile in dem Ordner ist in dem wir uns momentan befinden)\n",
    "    - docker run image_name         oder\n",
    "    - docker run -d --name container_name image_name -p 8000:8000 (bzw. den local port den du nutzen möchtest) container_name (container_name kannst du frei wählen) <br><br> wenn du irgendwas anpassen möchtest muss du den container erst löschen (docker rm container_name oder id) und einen neuen erstellen"
   ],
   "id": "62f41e0d4e7d626e"
  },
  {
   "metadata": {},
   "cell_type": "markdown",
   "source": "4. - schaue mit \"docker ps\" nach ob er läuft (docker ps -a zeigt dir auch nicht aktive container an)<br> - mit \"docker container logs \"containername\" siehst du was der container alles bislang ausgegeben hat.",
   "id": "3cee7f2420fab0b2"
  }
 ],
 "metadata": {
  "kernelspec": {
   "display_name": "Python 3",
   "language": "python",
   "name": "python3"
  },
  "language_info": {
   "codemirror_mode": {
    "name": "ipython",
    "version": 2
   },
   "file_extension": ".py",
   "mimetype": "text/x-python",
   "name": "python",
   "nbconvert_exporter": "python",
   "pygments_lexer": "ipython2",
   "version": "2.7.6"
  }
 },
 "nbformat": 4,
 "nbformat_minor": 5
}
