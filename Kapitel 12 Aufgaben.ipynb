{
 "cells": [
  {
   "metadata": {},
   "cell_type": "markdown",
   "source": ".\n",
   "id": "a4ec5c1466cf32c3"
  },
  {
   "metadata": {},
   "cell_type": "markdown",
   "source": "Aufgabe 1\n",
   "id": "d76b3dfc9b32298d"
  },
  {
   "metadata": {},
   "cell_type": "markdown",
   "source": "black als Hook einrichten",
   "id": "af3091e77e7b9ae0"
  },
  {
   "metadata": {},
   "cell_type": "markdown",
   "source": "1. erstelle dir einen neuen branch Als Name für den branch nimmst du deinen github namen.",
   "id": "3ed4ed586391c9ad"
  },
  {
   "metadata": {},
   "cell_type": "code",
   "outputs": [],
   "execution_count": null,
   "source": "",
   "id": "2438c46f9eaea8a6"
  },
  {
   "metadata": {},
   "cell_type": "markdown",
   "source": "2. Installiere dir pre-commit",
   "id": "4ac84b562ee338be"
  },
  {
   "metadata": {},
   "cell_type": "markdown",
   "source": "",
   "id": "a33cee57e52b79a2"
  },
  {
   "metadata": {},
   "cell_type": "markdown",
   "source": "3. Erstelle dir eine File namens .pre-commit-config.yaml die dafür sorgt das dein Code automatisch formatiert wird beim committen",
   "id": "a7dc15a569c9c2e0"
  },
  {
   "metadata": {},
   "cell_type": "markdown",
   "source": [
    "4. falls erfolgreich push deine files ins repository.\n",
    "Falls es nicht klappt passe die python file an (tipp: eingerückte zeilen werden von black nicht angepasst)"
   ],
   "id": "b408471173509162"
  },
  {
   "metadata": {},
   "cell_type": "code",
   "outputs": [],
   "execution_count": null,
   "source": "5. yaml anpassen und zweite pre-commit hook einfügen",
   "id": "f9548f3b075e3462"
  },
  {
   "metadata": {},
   "cell_type": "markdown",
   "source": "Aufgabe 2",
   "id": "6f1d564db4c469d1"
  },
  {
   "metadata": {},
   "cell_type": "markdown",
   "source": "1. Erstelle dir die eine Datei namens black.yml unter .github/workflows/ (du musst die Ordner auch neu erstellen)",
   "id": "baab0974984b02a3"
  },
  {
   "metadata": {},
   "cell_type": "code",
   "outputs": [],
   "execution_count": null,
   "source": "",
   "id": "19d666e34c502911"
  },
  {
   "metadata": {},
   "cell_type": "markdown",
   "source": [
    "2. in dieser File wollen wir black automatisch in GitHub ausführen\n",
    "lassen. Du kannst gerne die beispiel konfiguration nehmen und anpassen.\n",
    "\n"
   ],
   "id": "d574b8b08a936507"
  },
  {
   "metadata": {},
   "cell_type": "markdown",
   "source": "Docker",
   "id": "858e64cf40984d5d"
  },
  {
   "metadata": {},
   "cell_type": "markdown",
   "source": "2. Erstelle eine Dockerfile und passe Sie so an das die File \"unfassbargutepythonfile.py\" auf den Container kopiert und ausgeführt wird",
   "id": "bcbfb5bba2b133b4"
  },
  {
   "metadata": {},
   "cell_type": "markdown",
   "source": "3. Erstelle das Image und starte den Container",
   "id": "62f41e0d4e7d626e"
  },
  {
   "metadata": {},
   "cell_type": "markdown",
   "source": [
    "4. Erstelle eine requirements.txt und integriere sie in die Dockerfile. Sorge dafür das beim builden jedesmal die in \"unfassbargutepythonfile.py\" angebenen\n",
    "Versionen installiert werden."
   ],
   "id": "4a9ec291903e6bc2"
  },
  {
   "metadata": {},
   "cell_type": "code",
   "outputs": [],
   "execution_count": null,
   "source": "",
   "id": "7220cdb83c4ac686"
  }
 ],
 "metadata": {
  "kernelspec": {
   "display_name": "Python 3",
   "language": "python",
   "name": "python3"
  },
  "language_info": {
   "codemirror_mode": {
    "name": "ipython",
    "version": 2
   },
   "file_extension": ".py",
   "mimetype": "text/x-python",
   "name": "python",
   "nbconvert_exporter": "python",
   "pygments_lexer": "ipython2",
   "version": "2.7.6"
  }
 },
 "nbformat": 4,
 "nbformat_minor": 5
}
